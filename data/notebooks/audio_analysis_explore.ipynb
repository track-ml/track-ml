{
 "cells": [
  {
   "cell_type": "code",
   "execution_count": 30,
   "metadata": {},
   "outputs": [],
   "source": [
    "import spotipy\r\n",
    "from spotipy.oauth2 import SpotifyOAuth\r\n",
    "from dotenv import load_dotenv\r\n",
    "import os\r\n",
    "from pprint import pprint\r\n",
    "from spotipy.oauth2 import SpotifyClientCredentials\r\n",
    "import pandas as pd\r\n",
    "import numpy as np\r\n",
    "\r\n",
    "load_dotenv()\r\n",
    "\r\n",
    "CLIENT_ID = os.getenv('CLIENT_ID')\r\n",
    "CLIENT_SECRET=os.getenv(\"CLIENT_SECRET\")\r\n",
    "\r\n",
    "spotify = spotipy.Spotify(auth_manager=SpotifyClientCredentials(client_id = CLIENT_ID, client_secret = CLIENT_SECRET))"
   ]
  },
  {
   "cell_type": "markdown",
   "metadata": {},
   "source": [
    "First making a simple request to the api to see the data available for a given track. As agreed, we are looking at single albums to begin with so that they are prelabeled with genre."
   ]
  },
  {
   "cell_type": "code",
   "execution_count": 52,
   "metadata": {},
   "outputs": [
    {
     "name": "stdout",
     "output_type": "stream",
     "text": [
      "meta\n",
      "track\n",
      "bars\n",
      "beats\n",
      "sections\n",
      "segments\n",
      "tatums\n"
     ]
    }
   ],
   "source": [
    "results = spotify.audio_analysis(\"spotify:track:11dFghVXANMlKmJXsNCbNl\")\r\n",
    "\r\n",
    "for key,item in results.items():\r\n",
    "    print(key)\r\n",
    "    "
   ]
  },
  {
   "cell_type": "code",
   "execution_count": 53,
   "metadata": {},
   "outputs": [
    {
     "name": "stdout",
     "output_type": "stream",
     "text": [
      "num_samples\n",
      "duration\n",
      "sample_md5\n",
      "offset_seconds\n",
      "window_seconds\n",
      "analysis_sample_rate\n",
      "analysis_channels\n",
      "end_of_fade_in\n",
      "start_of_fade_out\n",
      "loudness\n",
      "tempo\n",
      "tempo_confidence\n",
      "time_signature\n",
      "time_signature_confidence\n",
      "key\n",
      "key_confidence\n",
      "mode\n",
      "mode_confidence\n",
      "codestring\n",
      "code_version\n",
      "echoprintstring\n",
      "echoprint_version\n",
      "synchstring\n",
      "synch_version\n",
      "rhythmstring\n",
      "rhythm_version\n"
     ]
    }
   ],
   "source": [
    "track_info = results[\"track\"]\r\n",
    "\r\n",
    "for key, value in track_info.items():\r\n",
    "    print(key)\r\n",
    "\r\n",
    "    \r\n",
    "   \r\n",
    "    "
   ]
  },
  {
   "cell_type": "code",
   "execution_count": 54,
   "metadata": {},
   "outputs": [
    {
     "name": "stdout",
     "output_type": "stream",
     "text": [
      "         start  duration  confidence  loudness_start  loudness_max_time  \\\n",
      "0      0.00000   0.24317       1.000         -59.656            0.21478   \n",
      "1      0.24317   0.26240       0.975         -34.039            0.07659   \n",
      "2      0.50558   0.19596       0.362         -24.576            0.07177   \n",
      "3      0.70154   0.19891       0.435         -23.053            0.07305   \n",
      "4      0.90045   0.12082       0.253         -18.084            0.00395   \n",
      "..         ...       ...         ...             ...                ...   \n",
      "761  200.91737   0.26009       0.614          -6.545            0.12574   \n",
      "762  201.17746   0.18009       0.167          -3.485            0.00562   \n",
      "763  201.35754   0.54050       0.464          -4.748            0.09921   \n",
      "764  201.89806   1.07964       0.300          -6.688            0.05800   \n",
      "765  202.97769   4.98218       0.054         -23.839            0.05905   \n",
      "\n",
      "     loudness_max  loudness_end  \\\n",
      "0         -36.317           0.0   \n",
      "1         -20.161           0.0   \n",
      "2         -16.295           0.0   \n",
      "3         -14.250           0.0   \n",
      "4         -13.326           0.0   \n",
      "..            ...           ...   \n",
      "761         0.453           0.0   \n",
      "762         0.159           0.0   \n",
      "763        -0.441           0.0   \n",
      "764        -3.079           0.0   \n",
      "765       -21.116         -60.0   \n",
      "\n",
      "                                               pitches  \\\n",
      "0    [0.769, 1.0, 0.262, 0.182, 0.28, 0.316, 0.129,...   \n",
      "1    [0.517, 0.464, 0.286, 0.5, 0.476, 0.446, 0.323...   \n",
      "2    [0.667, 0.772, 0.963, 1.0, 0.884, 0.491, 0.345...   \n",
      "3    [0.212, 0.141, 0.294, 0.396, 1.0, 0.761, 0.791...   \n",
      "4    [0.28, 0.292, 0.373, 0.515, 0.596, 0.803, 1.0,...   \n",
      "..                                                 ...   \n",
      "761  [0.355, 0.689, 0.156, 0.555, 1.0, 0.363, 0.135...   \n",
      "762  [0.642, 1.0, 0.319, 0.287, 0.528, 0.472, 0.926...   \n",
      "763  [0.744, 0.914, 0.853, 0.881, 0.825, 0.28, 0.17...   \n",
      "764  [0.047, 0.114, 0.054, 0.056, 0.203, 0.036, 0.0...   \n",
      "765  [0.267, 0.264, 0.28, 0.236, 0.394, 0.24, 0.274...   \n",
      "\n",
      "                                                timbre  \n",
      "0    [7.406, 64.456, 37.595, -176.296, 43.329, -43....  \n",
      "1    [32.213, 8.343, 41.371, -125.928, -20.494, -14...  \n",
      "2    [40.463, 57.892, 1.418, -24.92, -7.913, -53.27...  \n",
      "3    [42.115, 64.373, -0.233, -62.878, 15.916, -52....  \n",
      "4    [43.633, 83.613, -21.969, -26.144, 23.659, -59...  \n",
      "..                                                 ...  \n",
      "761  [58.865, 93.281, 26.269, -10.741, 28.609, -38....  \n",
      "762  [57.454, 84.48, -0.327, -13.384, -1.498, -64.4...  \n",
      "763  [57.187, 101.909, 26.968, -31.682, 8.958, -14....  \n",
      "764  [52.404, 101.727, 116.355, 86.995, 69.965, -8....  \n",
      "765  [23.384, 115.685, -41.789, 304.61, 53.212, -64...  \n",
      "\n",
      "[766 rows x 9 columns]\n"
     ]
    }
   ],
   "source": [
    "\r\n",
    "df = pd.json_normalize(results[\"segments\"])\r\n",
    "print(df)\r\n"
   ]
  },
  {
   "cell_type": "markdown",
   "metadata": {},
   "source": [
    "In this dataframe, each row is a \"section\" that contains data relating to a tiny section of the song."
   ]
  },
  {
   "cell_type": "code",
   "execution_count": 58,
   "metadata": {},
   "outputs": [
    {
     "name": "stdout",
     "output_type": "stream",
     "text": [
      "[0.769, 1.0, 0.262, 0.182, 0.28, 0.316, 0.129, 0.116, 0.188, 0.213, 0.241, 0.423]\n",
      "[7.406, 64.456, 37.595, -176.296, 43.329, -43.952, 71.439, -117.9, -41.103, 37.712, 20.429, -8.869]\n"
     ]
    }
   ],
   "source": [
    "row = df.loc[0].copy()\r\n",
    "print(row[\"pitches\"])\r\n",
    "print(row[\"timbre\"])\r\n",
    "\r\n",
    "for i, row in df.iterrows():\r\n",
    "    assert (len(row[\"pitches\"])) == len(row[\"timbre\"])    "
   ]
  },
  {
   "cell_type": "markdown",
   "metadata": {},
   "source": [
    "Each pitch relates to a specific timbre. For the purposes of this experiement, let's assume that each of these relate to each \"sound\" that has been extracted by spotify. As there always 12 sounds in each segment. Which in itself is a fraction of a second."
   ]
  },
  {
   "cell_type": "markdown",
   "metadata": {},
   "source": [
    "Going to look at how to vectorize this data for one sample (one song)"
   ]
  },
  {
   "cell_type": "code",
   "execution_count": 33,
   "metadata": {},
   "outputs": [
    {
     "data": {
      "text/plain": [
       "array([[ 1.24000e-01,  4.20160e+01],\n",
       "       [ 8.13000e-01, -1.44517e+02],\n",
       "       [ 6.06000e-01, -2.31300e+00],\n",
       "       [ 3.00000e-01,  2.17400e+01],\n",
       "       [ 1.61000e-01,  1.72680e+01],\n",
       "       [ 2.27000e-01, -6.48680e+01],\n",
       "       [ 6.22000e-01, -4.45630e+01],\n",
       "       [ 1.00000e+00,  7.69000e+00],\n",
       "       [ 5.53000e-01, -6.84100e+00],\n",
       "       [ 1.33000e-01, -1.64700e+01],\n",
       "       [ 1.10000e-01, -1.23870e+01],\n",
       "       [ 1.52000e-01,  5.88000e-01]])"
      ]
     },
     "execution_count": 33,
     "metadata": {},
     "output_type": "execute_result"
    }
   ],
   "source": [
    "data = list(zip(row[\"pitches\"],row[\"timbre\"]))\r\n",
    "arr = np.array(data)\r\n",
    "arr"
   ]
  },
  {
   "cell_type": "markdown",
   "metadata": {},
   "source": [
    "Thinking about possibly a 3/4d array. As we do not have data for when specifically each \"sound\" occured in a segment, we can input the segment duration with the above array so that the model will correctly be able to give importance/weighting to each of the segments.\r\n",
    "\r\n",
    "Something interesting to look at also is whether we can predict the audio features from this \"raw\" sound data. Or maybe we could even look at a .wav file and see if we can predict the spotify features such as \"danceability, acousticness\" etc. This would mean we would become less reliant on the spotify data as the universal source of truth.\r\n",
    "\r\n",
    "Going to look at the possiblity of a many to one RNN model."
   ]
  },
  {
   "cell_type": "code",
   "execution_count": 51,
   "metadata": {},
   "outputs": [
    {
     "name": "stdout",
     "output_type": "stream",
     "text": [
      "[[ 1.24000e-01  4.20160e+01]\n",
      " [ 8.13000e-01 -1.44517e+02]\n",
      " [ 6.06000e-01 -2.31300e+00]\n",
      " [ 3.00000e-01  2.17400e+01]\n",
      " [ 1.61000e-01  1.72680e+01]\n",
      " [ 2.27000e-01 -6.48680e+01]\n",
      " [ 6.22000e-01 -4.45630e+01]\n",
      " [ 1.00000e+00  7.69000e+00]\n",
      " [ 5.53000e-01 -6.84100e+00]\n",
      " [ 1.33000e-01 -1.64700e+01]\n",
      " [ 1.10000e-01 -1.23870e+01]\n",
      " [ 1.52000e-01  5.88000e-01]]\n",
      "[  0.53683 247.16985]\n"
     ]
    }
   ],
   "source": [
    "import numpy as np\r\n",
    "data = np.array(list(zip(row[\"pitches\"],row[\"timbre\"])))\r\n",
    "\r\n",
    "meta = np.array([row[\"duration\"],row[\"start\"]])\r\n",
    "\r\n",
    "print(data)\r\n",
    "print(meta)"
   ]
  }
 ],
 "metadata": {
  "interpreter": {
   "hash": "16dd07ca28ab09f61e4062ef9e28e9d92c1df1a3bfd01ec2076928407650ef85"
  },
  "kernelspec": {
   "display_name": "Python 3.9.3 64-bit ('venv': venv)",
   "name": "python3"
  },
  "language_info": {
   "codemirror_mode": {
    "name": "ipython",
    "version": 3
   },
   "file_extension": ".py",
   "mimetype": "text/x-python",
   "name": "python",
   "nbconvert_exporter": "python",
   "pygments_lexer": "ipython3",
   "version": "3.9.3"
  },
  "orig_nbformat": 4
 },
 "nbformat": 4,
 "nbformat_minor": 2
}